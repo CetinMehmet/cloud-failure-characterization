{
 "cells": [
  {
   "cell_type": "code",
   "execution_count": 200,
   "metadata": {},
   "outputs": [],
   "source": [
    "import pandas as pd\n",
    "import numpy as np\n",
    "import matplotlib.pyplot as plt\n",
    "import os\n",
    "from pathlib import Path"
   ]
  },
  {
   "cell_type": "code",
   "execution_count": 209,
   "metadata": {},
   "outputs": [],
   "source": [
    "datasets_path = str(Path(os.getcwd()).parent) + \"/datasets/\"\n",
    "df = pd.read_csv(datasets_path + \"down_detector_outage_count.csv\")\n",
    "df_rep = pd.read_csv(datasets_path + \"down_detector_reported_problem_count.csv\")"
   ]
  },
  {
   "cell_type": "code",
   "execution_count": 290,
   "metadata": {},
   "outputs": [],
   "source": [
    "# WORKING ONE\n",
    "def extract_failure_event_times(partial_df):\n",
    "    start_time = None\n",
    "    end_time = None\n",
    "    num_reports_list = []\n",
    "    failure_events = []\n",
    "    page_ids = partial_df.sort_values(\"timestamp\")['event_id'].unique()\n",
    "\n",
    "    q_val = 0.9\n",
    "    # Extract event_start and event_end from each event\n",
    "    for page_id in page_ids:\n",
    "        df_page = partial_df[partial_df[\"event_id\"] == page_id].sort_values(\"timestamp\")\n",
    "        threshold = df_page[\"count\"].quantile(q_val) \n",
    "        while threshold == 0:\n",
    "            q_val += 0.05\n",
    "            threshold = df_page[\"count\"].quantile(q_val)\n",
    "        \n",
    "        for i, page in df_page.sort_values(\"timestamp\").iterrows():\n",
    "            nr_reports = page['count']\n",
    "            event_time = page['timestamp']\n",
    "\n",
    "            if nr_reports > threshold:\n",
    "                if start_time == None:\n",
    "                    start_time = event_time\n",
    "\n",
    "                num_reports_list.append(nr_reports)\n",
    "\n",
    "            else:\n",
    "                if start_time != None:\n",
    "                    end_time = event_time\n",
    "                    if 900 * 95 > end_time - start_time > 0: # If duration is longer than 23:45, don't add it.\n",
    "                        failure_events.append({\n",
    "                            'start_time': start_time,\n",
    "                            'end_time': end_time,\n",
    "                            'duration': end_time-start_time,\n",
    "                            'peak': np.max(num_reports_list),\n",
    "                            'threshold': threshold,\n",
    "                            'median': np.median(num_reports_list),\n",
    "                            'mean': np.mean(num_reports_list),\n",
    "                            'page_id': page_id\n",
    "                        })\n",
    "                    start_time = None\n",
    "                    end_time = None\n",
    "                    num_reports_list = []\n",
    "                    \n",
    "    return pd.DataFrame(failure_events)\n"
   ]
  },
  {
   "cell_type": "code",
   "execution_count": 291,
   "metadata": {},
   "outputs": [],
   "source": [
    "aws_failures = extract_failure_event_times(df[df[\"provider\"] == \"aws\"])\n",
    "gcp_failures = extract_failure_event_times(df[df[\"provider\"] == \"gcp\"])\n",
    "azure_failures = extract_failure_event_times(df[df[\"provider\"] == \"azure\"])"
   ]
  },
  {
   "cell_type": "code",
   "execution_count": 292,
   "metadata": {},
   "outputs": [
    {
     "data": {
      "text/plain": [
       "(start_time    42\n",
       " end_time      42\n",
       " duration       9\n",
       " peak          29\n",
       " threshold     11\n",
       " median        28\n",
       " mean          31\n",
       " page_id       13\n",
       " dtype: int64,\n",
       " start_time    196\n",
       " end_time      196\n",
       " duration       10\n",
       " peak           90\n",
       " threshold      52\n",
       " median         92\n",
       " mean          124\n",
       " page_id        69\n",
       " dtype: int64,\n",
       " start_time    148\n",
       " end_time      148\n",
       " duration       10\n",
       " peak           79\n",
       " threshold      44\n",
       " median         74\n",
       " mean           91\n",
       " page_id        50\n",
       " dtype: int64)"
      ]
     },
     "execution_count": 292,
     "metadata": {},
     "output_type": "execute_result"
    }
   ],
   "source": [
    "gcp_failures.nunique(), aws_failures.nunique(), azure_failures.nunique()"
   ]
  },
  {
   "cell_type": "code",
   "execution_count": 260,
   "metadata": {},
   "outputs": [],
   "source": [
    "# NOT WORKING ONE.\n",
    "\n",
    "def extract_failures_from_reports_V2(partial_df):\n",
    "    start_time = None\n",
    "    prev_event_time = None\n",
    "    num_reports_list = []\n",
    "    failure_events = []\n",
    "    \n",
    "    prev_id = partial_df.sort_values('date')[\"event_id\"].values[0]\n",
    "    threshold = partial_df[partial_df['event_id'] == prev_id][\"count\"].quantile(0.85)\n",
    "\n",
    "    for _, report_event in partial_df.sort_values('date').iterrows():\n",
    "        nr_reports = report_event['count']\n",
    "        event_time = report_event['date']\n",
    "        \n",
    "        if report_event[\"event_id\"] != prev_id:\n",
    "            threshold = partial_df[partial_df['event_id'] == report_event[\"event_id\"]][\"count\"].quantile(0.85)\n",
    "            prev_id = report_event[\"event_id\"]\n",
    "\n",
    "        if nr_reports > threshold:\n",
    "            if start_time == None:\n",
    "                start_time = event_time\n",
    "                \n",
    "            num_reports_list.append({nr_reports: event_time})\n",
    "            \n",
    "        elif nr_reports < threshold:\n",
    "            if start_time != None:\n",
    "                end_time = event_time\n",
    "                peak_val = np.max(list(num_reports_list.keys()))\n",
    "                failure_events.append({\n",
    "                    'start_time': start_time,\n",
    "                    'end_time': end_time,\n",
    "                    'duration': end_time - start_time,\n",
    "                    'peak': peak_val,\n",
    "                    'peak_time': num_reports_list[peak_val]\n",
    "                    'median': np.median(num_reports_list),\n",
    "                    'mean': np.mean(num_reports_list)\n",
    "                })\n",
    "                start_time = None\n",
    "                num_reports_list = []\n",
    "    \n",
    "    return pd.DataFrame(failure_events)"
   ]
  },
  {
   "cell_type": "code",
   "execution_count": 261,
   "metadata": {},
   "outputs": [],
   "source": [
    "df[\"date\"] = pd.to_datetime(df[\"timestamp\"], unit='s')\n",
    "df_ex = extract_failures_from_reports_V2(df[df[\"provider\"] == \"azure\"]).sort_values('duration')"
   ]
  },
  {
   "cell_type": "code",
   "execution_count": 262,
   "metadata": {},
   "outputs": [
    {
     "data": {
      "text/html": [
       "<div>\n",
       "<style scoped>\n",
       "    .dataframe tbody tr th:only-of-type {\n",
       "        vertical-align: middle;\n",
       "    }\n",
       "\n",
       "    .dataframe tbody tr th {\n",
       "        vertical-align: top;\n",
       "    }\n",
       "\n",
       "    .dataframe thead th {\n",
       "        text-align: right;\n",
       "    }\n",
       "</style>\n",
       "<table border=\"1\" class=\"dataframe\">\n",
       "  <thead>\n",
       "    <tr style=\"text-align: right;\">\n",
       "      <th></th>\n",
       "      <th>start_time</th>\n",
       "      <th>end_time</th>\n",
       "      <th>duration</th>\n",
       "      <th>peak</th>\n",
       "      <th>median</th>\n",
       "      <th>mean</th>\n",
       "    </tr>\n",
       "  </thead>\n",
       "  <tbody>\n",
       "    <tr>\n",
       "      <th>116</th>\n",
       "      <td>2019-11-19 16:33:35</td>\n",
       "      <td>2019-11-19 16:33:38</td>\n",
       "      <td>00:00:03</td>\n",
       "      <td>11</td>\n",
       "      <td>11.0</td>\n",
       "      <td>11.000000</td>\n",
       "    </tr>\n",
       "    <tr>\n",
       "      <th>28</th>\n",
       "      <td>2018-09-04 12:21:51</td>\n",
       "      <td>2018-09-04 12:22:22</td>\n",
       "      <td>00:00:31</td>\n",
       "      <td>394</td>\n",
       "      <td>394.0</td>\n",
       "      <td>394.000000</td>\n",
       "    </tr>\n",
       "    <tr>\n",
       "      <th>26</th>\n",
       "      <td>2018-09-04 11:51:51</td>\n",
       "      <td>2018-09-04 11:52:22</td>\n",
       "      <td>00:00:31</td>\n",
       "      <td>214</td>\n",
       "      <td>214.0</td>\n",
       "      <td>214.000000</td>\n",
       "    </tr>\n",
       "    <tr>\n",
       "      <th>27</th>\n",
       "      <td>2018-09-04 12:06:51</td>\n",
       "      <td>2018-09-04 12:07:22</td>\n",
       "      <td>00:00:31</td>\n",
       "      <td>306</td>\n",
       "      <td>306.0</td>\n",
       "      <td>306.000000</td>\n",
       "    </tr>\n",
       "    <tr>\n",
       "      <th>25</th>\n",
       "      <td>2018-09-04 11:36:51</td>\n",
       "      <td>2018-09-04 11:37:22</td>\n",
       "      <td>00:00:31</td>\n",
       "      <td>241</td>\n",
       "      <td>241.0</td>\n",
       "      <td>241.000000</td>\n",
       "    </tr>\n",
       "    <tr>\n",
       "      <th>...</th>\n",
       "      <td>...</td>\n",
       "      <td>...</td>\n",
       "      <td>...</td>\n",
       "      <td>...</td>\n",
       "      <td>...</td>\n",
       "      <td>...</td>\n",
       "    </tr>\n",
       "    <tr>\n",
       "      <th>196</th>\n",
       "      <td>2020-10-19 19:07:08</td>\n",
       "      <td>2020-10-19 22:37:08</td>\n",
       "      <td>03:30:00</td>\n",
       "      <td>409</td>\n",
       "      <td>92.0</td>\n",
       "      <td>132.785714</td>\n",
       "    </tr>\n",
       "    <tr>\n",
       "      <th>177</th>\n",
       "      <td>2020-08-25 17:23:17</td>\n",
       "      <td>2020-08-25 21:08:17</td>\n",
       "      <td>03:45:00</td>\n",
       "      <td>44</td>\n",
       "      <td>27.0</td>\n",
       "      <td>28.000000</td>\n",
       "    </tr>\n",
       "    <tr>\n",
       "      <th>108</th>\n",
       "      <td>2019-10-18 14:05:37</td>\n",
       "      <td>2019-10-18 17:50:37</td>\n",
       "      <td>03:45:00</td>\n",
       "      <td>420</td>\n",
       "      <td>145.0</td>\n",
       "      <td>186.200000</td>\n",
       "    </tr>\n",
       "    <tr>\n",
       "      <th>189</th>\n",
       "      <td>2020-09-30 17:33:05</td>\n",
       "      <td>2020-09-30 21:18:05</td>\n",
       "      <td>03:45:00</td>\n",
       "      <td>63</td>\n",
       "      <td>50.0</td>\n",
       "      <td>48.400000</td>\n",
       "    </tr>\n",
       "    <tr>\n",
       "      <th>178</th>\n",
       "      <td>2020-09-28 21:48:04</td>\n",
       "      <td>2020-09-29 01:33:04</td>\n",
       "      <td>03:45:00</td>\n",
       "      <td>2662</td>\n",
       "      <td>969.0</td>\n",
       "      <td>1055.947368</td>\n",
       "    </tr>\n",
       "  </tbody>\n",
       "</table>\n",
       "<p>228 rows × 6 columns</p>\n",
       "</div>"
      ],
      "text/plain": [
       "             start_time            end_time duration  peak  median  \\\n",
       "116 2019-11-19 16:33:35 2019-11-19 16:33:38 00:00:03    11    11.0   \n",
       "28  2018-09-04 12:21:51 2018-09-04 12:22:22 00:00:31   394   394.0   \n",
       "26  2018-09-04 11:51:51 2018-09-04 11:52:22 00:00:31   214   214.0   \n",
       "27  2018-09-04 12:06:51 2018-09-04 12:07:22 00:00:31   306   306.0   \n",
       "25  2018-09-04 11:36:51 2018-09-04 11:37:22 00:00:31   241   241.0   \n",
       "..                  ...                 ...      ...   ...     ...   \n",
       "196 2020-10-19 19:07:08 2020-10-19 22:37:08 03:30:00   409    92.0   \n",
       "177 2020-08-25 17:23:17 2020-08-25 21:08:17 03:45:00    44    27.0   \n",
       "108 2019-10-18 14:05:37 2019-10-18 17:50:37 03:45:00   420   145.0   \n",
       "189 2020-09-30 17:33:05 2020-09-30 21:18:05 03:45:00    63    50.0   \n",
       "178 2020-09-28 21:48:04 2020-09-29 01:33:04 03:45:00  2662   969.0   \n",
       "\n",
       "            mean  \n",
       "116    11.000000  \n",
       "28    394.000000  \n",
       "26    214.000000  \n",
       "27    306.000000  \n",
       "25    241.000000  \n",
       "..           ...  \n",
       "196   132.785714  \n",
       "177    28.000000  \n",
       "108   186.200000  \n",
       "189    48.400000  \n",
       "178  1055.947368  \n",
       "\n",
       "[228 rows x 6 columns]"
      ]
     },
     "execution_count": 262,
     "metadata": {},
     "output_type": "execute_result"
    }
   ],
   "source": [
    "df_ex"
   ]
  },
  {
   "cell_type": "code",
   "execution_count": 107,
   "metadata": {},
   "outputs": [
    {
     "data": {
      "text/plain": [
       "(array([0.07246377, 0.07246377, 0.23188406, 0.23188406, 0.31884058,\n",
       "        0.31884058, 0.34782609, 0.34782609, 0.46376812, 0.46376812,\n",
       "        0.55072464, 0.55072464, 0.57971014, 0.57971014, 0.62318841,\n",
       "        0.62318841, 0.66666667, 0.66666667, 0.68115942, 0.68115942,\n",
       "        0.69565217, 0.69565217, 0.69565217, 0.69565217, 0.69565217,\n",
       "        0.69565217, 0.71014493, 0.71014493, 0.72463768, 0.72463768,\n",
       "        0.73913043, 0.73913043, 0.73913043, 0.73913043, 0.75362319,\n",
       "        0.75362319, 0.76811594, 0.76811594, 0.7826087 , 0.7826087 ,\n",
       "        0.79710145, 0.79710145, 0.82608696, 0.82608696, 0.84057971,\n",
       "        0.84057971, 0.85507246, 0.85507246, 0.86956522, 0.86956522,\n",
       "        0.86956522, 0.86956522, 0.86956522, 0.86956522, 0.86956522,\n",
       "        0.88405797, 0.88405797, 0.89855072, 0.89855072, 0.91304348,\n",
       "        0.91304348, 0.91304348, 0.91304348, 0.92753623, 0.92753623,\n",
       "        0.92753623, 0.92753623, 0.92753623, 0.92753623, 0.92753623,\n",
       "        0.92753623, 0.92753623, 0.92753623, 0.92753623, 0.92753623,\n",
       "        0.92753623, 0.92753623, 0.92753623, 0.92753623, 0.92753623,\n",
       "        0.92753623, 0.92753623, 0.92753623, 0.92753623, 0.92753623,\n",
       "        0.92753623, 0.92753623, 0.92753623, 0.92753623, 0.94202899,\n",
       "        0.94202899, 0.95652174, 0.95652174, 0.95652174, 0.95652174,\n",
       "        0.97101449, 0.97101449, 0.98550725, 0.98550725, 1.        ]),\n",
       " array([    0.,   441.,   882.,  1323.,  1764.,  2205.,  2646.,  3087.,\n",
       "         3528.,  3969.,  4410.,  4851.,  5292.,  5733.,  6174.,  6615.,\n",
       "         7056.,  7497.,  7938.,  8379.,  8820.,  9261.,  9702., 10143.,\n",
       "        10584., 11025., 11466., 11907., 12348., 12789., 13230., 13671.,\n",
       "        14112., 14553., 14994., 15435., 15876., 16317., 16758., 17199.,\n",
       "        17640., 18081., 18522., 18963., 19404., 19845., 20286., 20727.,\n",
       "        21168., 21609., 22050., 22491., 22932., 23373., 23814., 24255.,\n",
       "        24696., 25137., 25578., 26019., 26460., 26901., 27342., 27783.,\n",
       "        28224., 28665., 29106., 29547., 29988., 30429., 30870., 31311.,\n",
       "        31752., 32193., 32634., 33075., 33516., 33957., 34398., 34839.,\n",
       "        35280., 35721., 36162., 36603., 37044., 37485., 37926., 38367.,\n",
       "        38808., 39249., 39690., 40131., 40572., 41013., 41454., 41895.,\n",
       "        42336., 42777., 43218., 43659., 44100.]),\n",
       " [<matplotlib.patches.Polygon at 0x7ffa8c94c880>])"
      ]
     },
     "execution_count": 107,
     "metadata": {},
     "output_type": "execute_result"
    },
    {
     "data": {
      "image/png": "[encoded data removed]",
      "text/plain": [
       "<Figure size 432x288 with 1 Axes>"
      ]
     },
     "metadata": {
      "needs_background": "light"
     },
     "output_type": "display_data"
    }
   ],
   "source": [
    "durations = []\n",
    "for k, v in ev_times.items():\n",
    "    durations.append(ev_times[k][\"duration\"])\n",
    "\n",
    "_, ax = plt.subplots(1, 1)\n",
    "ax.hist(durations, bins=100, density=True, histtype='step', cumulative=True)"
   ]
  },
  {
   "cell_type": "code",
   "execution_count": null,
   "metadata": {},
   "outputs": [],
   "source": []
  },
  {
   "cell_type": "code",
   "execution_count": 307,
   "metadata": {},
   "outputs": [
    {
     "name": "stdout",
     "output_type": "stream",
     "text": [
      "nan nan\n"
     ]
    },
    {
     "data": {
      "image/png": "[encoded data removed]",
      "text/plain": [
       "<Figure size 432x288 with 1 Axes>"
      ]
     },
     "metadata": {
      "needs_background": "light"
     },
     "output_type": "display_data"
    }
   ],
   "source": [
    "df_aws = df[df[\"provider\"] == \"gcp\"]\n",
    "df_ev = df_aws[df_aws[\"event_id\"] == 15]\n",
    "plt.plot(df_ev[\"timestamp\"], df_ev[\"count\"])\n",
    "print(df_ev[\"count\"].quantile(.75), df_ev[\"count\"].median())"
   ]
  },
  {
   "cell_type": "code",
   "execution_count": 248,
   "metadata": {},
   "outputs": [],
   "source": [
    "def extract_failures_from_reports(partial_df):\n",
    "    event_start = None\n",
    "    prev_event_time = None\n",
    "    num_reports_list = []\n",
    "    failure_events = []\n",
    "    for _, report_event in partial_df.sort_values('timestamp').iterrows():\n",
    "        num_reports = report_event['count']\n",
    "        event_time = report_event['timestamp']\n",
    "\n",
    "        if num_reports == 0:\n",
    "            if event_start is not None:\n",
    "                failure_events.append({\n",
    "                    'start_time': event_start,\n",
    "                    'end_time': prev_event_time,\n",
    "                    'duration': prev_event_time - event_start,\n",
    "                    'peak': np.max(num_reports_list),\n",
    "                    'median': np.median(num_reports_list),\n",
    "                    'mean': np.mean(num_reports_list)\n",
    "                })\n",
    "                event_start = None\n",
    "                num_reports_list = []\n",
    "        else:\n",
    "            if event_start is None:\n",
    "                event_start = event_time\n",
    "                \n",
    "            num_reports_list.append(num_reports)\n",
    "\n",
    "        prev_event_time = event_time\n",
    "    \n",
    "    return pd.DataFrame(failure_events)"
   ]
  },
  {
   "cell_type": "code",
   "execution_count": 253,
   "metadata": {},
   "outputs": [
    {
     "data": {
      "text/plain": [
       "start_time    138\n",
       "end_time      138\n",
       "duration       16\n",
       "peak           21\n",
       "median         19\n",
       "mean           29\n",
       "dtype: int64"
      ]
     },
     "execution_count": 253,
     "metadata": {},
     "output_type": "execute_result"
    }
   ],
   "source": [
    "aws_events = extract_failures_from_reports(df[df[\"provider\"] == \"gcp\"])\n",
    "aws_events.sort_values('duration').nunique()"
   ]
  },
  {
   "cell_type": "code",
   "execution_count": 45,
   "metadata": {},
   "outputs": [
    {
     "data": {
      "text/plain": [
       "(2.0, 7.0)"
      ]
     },
     "execution_count": 45,
     "metadata": {},
     "output_type": "execute_result"
    }
   ],
   "source": [
    "df[df[\"provider\"] == \"aws\"][\"count\"].median(), df[df[\"provider\"] == \"aws\"][\"count\"].quantile(.75)"
   ]
  },
  {
   "cell_type": "code",
   "execution_count": 46,
   "metadata": {},
   "outputs": [
    {
     "data": {
      "text/plain": [
       "(2.0, 7.0)"
      ]
     },
     "execution_count": 46,
     "metadata": {},
     "output_type": "execute_result"
    }
   ],
   "source": [
    "df[df[\"provider\"] == \"azure\"][\"count\"].median(), df[df[\"provider\"] == \"azure\"][\"count\"].quantile(.75)"
   ]
  },
  {
   "cell_type": "code",
   "execution_count": 48,
   "metadata": {},
   "outputs": [
    {
     "data": {
      "text/plain": [
       "(8.45344129554656, 3.0)"
      ]
     },
     "execution_count": 48,
     "metadata": {},
     "output_type": "execute_result"
    }
   ],
   "source": [
    "df[df[\"provider\"] == \"gcp\"][\"count\"].mean(), df[df[\"provider\"] == \"gcp\"][\"count\"].quantile(.8)"
   ]
  },
  {
   "cell_type": "code",
   "execution_count": 139,
   "metadata": {},
   "outputs": [
    {
     "data": {
      "image/png": "[encoded data removed]",
      "text/plain": [
       "<Figure size 576x576 with 1 Axes>"
      ]
     },
     "metadata": {
      "needs_background": "light"
     },
     "output_type": "display_data"
    }
   ],
   "source": [
    "# Checking events\n",
    "fig, ax = plt.subplots(1, 1, figsize=(8, 8))\n",
    "df_aws = df[df[\"provider\"] == \"azure\"]\n",
    "for i in range(1):\n",
    "    ax.plot(df_aws[\"timestamp\"], df_aws[\"count\"])"
   ]
  },
  {
   "cell_type": "code",
   "execution_count": null,
   "metadata": {},
   "outputs": [],
   "source": []
  }
 ],
 "metadata": {
  "kernelspec": {
   "display_name": "Python 3",
   "language": "python",
   "name": "python3"
  },
  "language_info": {
   "codemirror_mode": {
    "name": "ipython",
    "version": 3
   },
   "file_extension": ".py",
   "mimetype": "text/x-python",
   "name": "python",
   "nbconvert_exporter": "python",
   "pygments_lexer": "ipython3",
   "version": "3.8.5"
  }
 },
 "nbformat": 4,
 "nbformat_minor": 4
}
