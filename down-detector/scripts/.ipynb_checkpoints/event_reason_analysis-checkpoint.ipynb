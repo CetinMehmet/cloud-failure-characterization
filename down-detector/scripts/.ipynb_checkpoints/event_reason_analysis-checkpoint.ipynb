{
 "cells": [
  {
   "cell_type": "code",
   "execution_count": 2,
   "metadata": {},
   "outputs": [],
   "source": [
    "import pandas as pd\n",
    "import numpy as np\n",
    "import matplotlib.pyplot as plt\n",
    "import os\n",
    "from pathlib import Path\n"
   ]
  },
  {
   "cell_type": "code",
   "execution_count": 3,
   "metadata": {},
   "outputs": [],
   "source": [
    "project_dir = str(Path(os.getcwd()).parent)\n",
    "datasets_path = project_dir + \"/datasets/\"\n",
    "df = pd.read_csv(datasets_path + \"down_detector_reported_problem_count.csv\")"
   ]
  },
  {
   "cell_type": "code",
   "execution_count": 5,
   "metadata": {},
   "outputs": [],
   "source": [
    "df_aws = df[df['provider'] == 'aws'].dropna()"
   ]
  },
  {
   "cell_type": "code",
   "execution_count": 29,
   "metadata": {},
   "outputs": [
    {
     "data": {
      "text/html": [
       "<div>\n",
       "<style scoped>\n",
       "    .dataframe tbody tr th:only-of-type {\n",
       "        vertical-align: middle;\n",
       "    }\n",
       "\n",
       "    .dataframe tbody tr th {\n",
       "        vertical-align: top;\n",
       "    }\n",
       "\n",
       "    .dataframe thead th {\n",
       "        text-align: right;\n",
       "    }\n",
       "</style>\n",
       "<table border=\"1\" class=\"dataframe\">\n",
       "  <thead>\n",
       "    <tr style=\"text-align: right;\">\n",
       "      <th></th>\n",
       "      <th>percent</th>\n",
       "    </tr>\n",
       "    <tr>\n",
       "      <th>report_id</th>\n",
       "      <th></th>\n",
       "    </tr>\n",
       "  </thead>\n",
       "  <tbody>\n",
       "    <tr>\n",
       "      <th>190</th>\n",
       "      <td>0.326667</td>\n",
       "    </tr>\n",
       "    <tr>\n",
       "      <th>191</th>\n",
       "      <td>0.326667</td>\n",
       "    </tr>\n",
       "    <tr>\n",
       "      <th>192</th>\n",
       "      <td>0.326667</td>\n",
       "    </tr>\n",
       "    <tr>\n",
       "      <th>193</th>\n",
       "      <td>0.326667</td>\n",
       "    </tr>\n",
       "    <tr>\n",
       "      <th>194</th>\n",
       "      <td>0.326667</td>\n",
       "    </tr>\n",
       "    <tr>\n",
       "      <th>...</th>\n",
       "      <td>...</td>\n",
       "    </tr>\n",
       "    <tr>\n",
       "      <th>280</th>\n",
       "      <td>0.326667</td>\n",
       "    </tr>\n",
       "    <tr>\n",
       "      <th>281</th>\n",
       "      <td>0.326667</td>\n",
       "    </tr>\n",
       "    <tr>\n",
       "      <th>282</th>\n",
       "      <td>0.326667</td>\n",
       "    </tr>\n",
       "    <tr>\n",
       "      <th>283</th>\n",
       "      <td>0.326667</td>\n",
       "    </tr>\n",
       "    <tr>\n",
       "      <th>284</th>\n",
       "      <td>0.326667</td>\n",
       "    </tr>\n",
       "  </tbody>\n",
       "</table>\n",
       "<p>95 rows × 1 columns</p>\n",
       "</div>"
      ],
      "text/plain": [
       "            percent\n",
       "report_id          \n",
       "190        0.326667\n",
       "191        0.326667\n",
       "192        0.326667\n",
       "193        0.326667\n",
       "194        0.326667\n",
       "...             ...\n",
       "280        0.326667\n",
       "281        0.326667\n",
       "282        0.326667\n",
       "283        0.326667\n",
       "284        0.326667\n",
       "\n",
       "[95 rows x 1 columns]"
      ]
     },
     "execution_count": 29,
     "metadata": {},
     "output_type": "execute_result"
    }
   ],
   "source": [
    "df_ev = df_aws[df_aws[\"event_id\"] == 3]\n",
    "df_ev.groupby(\"report_id\")[[\"cause\", \"percent\"]].mean()"
   ]
  },
  {
   "cell_type": "code",
   "execution_count": 49,
   "metadata": {},
   "outputs": [],
   "source": [
    "# Extract the reasons\n",
    "def extract_reasons_magnitude(df):\n",
    "    reasons = dict()\n",
    "    providers = df[\"provider\"].unique()\n",
    "    for vendor in providers:\n",
    "        df_vendor = df[df['provider'] == vendor]\n",
    "        events = df_vendor[\"event_id\"].unique()\n",
    "\n",
    "        reason_percent = dict()\n",
    "        for event in events:\n",
    "            df_ev = df_vendor[df_vendor[\"event_id\"] == event]\n",
    "            reports = df_ev[\"report_id\"].unique()\n",
    "\n",
    "            for report_id in reports:\n",
    "                df_rep = df_ev[df_ev[\"report_id\"] == report_id]\n",
    "                causes = df_rep[\"cause\"].values \n",
    "                percents = df_rep[\"percent\"].values\n",
    "\n",
    "            for c, p in zip(causes, percents):\n",
    "                if c in reason_percent.keys():\n",
    "                    reason_percent[c] += p\n",
    "                else:\n",
    "                    reason_percent[c] = p\n",
    "\n",
    "        reasons[vendor] = reason_percent\n",
    "        del reasons[vendor][np.NaN]\n",
    "        \n",
    "        vendor_total = sum(reasons[vendor].values())\n",
    "        for k, v in reasons[vendor].items():\n",
    "            reasons[vendor][k] = round(100 * (v / vendor_total), 2)\n",
    "            \n",
    "    return reasons"
   ]
  },
  {
   "cell_type": "code",
   "execution_count": 50,
   "metadata": {},
   "outputs": [],
   "source": [
    "extracted_reasons = extract_reasons_magnitude(df)"
   ]
  },
  {
   "cell_type": "code",
   "execution_count": 63,
   "metadata": {},
   "outputs": [
    {
     "data": {
      "text/plain": [
       "[Text(0, 0, 'EC2'),\n",
       " Text(1, 0, 'AWS Console'),\n",
       " Text(2, 0, 'VPC'),\n",
       " Text(3, 0, 'S3'),\n",
       " Text(4, 0, 'Log-in'),\n",
       " Text(5, 0, 'Website'),\n",
       " Text(6, 0, 'Cloud services'),\n",
       " Text(7, 0, 'Cloud services'),\n",
       " Text(8, 0, 'Virtual machines'),\n",
       " Text(9, 0, 'Website hosting')]"
      ]
     },
     "execution_count": 63,
     "metadata": {},
     "output_type": "execute_result"
    },
    {
     "data": {
      "image/png": "[encoded data removed]",
      "text/plain": [
       "<Figure size 720x360 with 1 Axes>"
      ]
     },
     "metadata": {
      "needs_background": "light"
     },
     "output_type": "display_data"
    }
   ],
   "source": [
    "# TODO: Make barh, put horizontal line between providers\n",
    "fig, ax = plt.subplots(1, 1, figsize=(10, 5), constrained_layout=True)\n",
    "aws = extracted_reasons['aws']\n",
    "gcp = extracted_reasons['gcp']\n",
    "azure = extracted_reasons['azure']\n",
    "\n",
    "x_labels = list(aws.keys()) + list(gcp.keys()) + list(azure.keys())\n",
    "bar_h = list(aws.values()) + list(gcp.values()) + list(azure.values())\n",
    "\n",
    "ax.bar(x=np.arange(len(x_labels)), height=bar_h, width=0.4)\n",
    "ax.set_xticks(np.arange(len(x_labels)))\n",
    "ax.set_xticklabels(x_labels, fontsize=14)"
   ]
  },
  {
   "cell_type": "code",
   "execution_count": null,
   "metadata": {},
   "outputs": [],
   "source": []
  },
  {
   "cell_type": "code",
   "execution_count": null,
   "metadata": {},
   "outputs": [],
   "source": []
  }
 ],
 "metadata": {
  "kernelspec": {
   "display_name": "Python 3",
   "language": "python",
   "name": "python3"
  },
  "language_info": {
   "codemirror_mode": {
    "name": "ipython",
    "version": 3
   },
   "file_extension": ".py",
   "mimetype": "text/x-python",
   "name": "python",
   "nbconvert_exporter": "python",
   "pygments_lexer": "ipython3",
   "version": "3.8.5"
  }
 },
 "nbformat": 4,
 "nbformat_minor": 4
}
