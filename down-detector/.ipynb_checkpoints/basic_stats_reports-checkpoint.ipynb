{
 "cells": [
  {
   "cell_type": "code",
   "execution_count": 1,
   "metadata": {},
   "outputs": [],
   "source": [
    "import pandas as pd\n",
    "import numpy as np"
   ]
  },
  {
   "cell_type": "code",
   "execution_count": 43,
   "metadata": {},
   "outputs": [],
   "source": [
    "df = pd.read_csv(\"down_detector_outage_count.csv\")\n",
    "df_rep = pd.read_csv(\"down_detector_reported_problem_count.csv\")"
   ]
  },
  {
   "cell_type": "code",
   "execution_count": 122,
   "metadata": {},
   "outputs": [],
   "source": [
    "providers = {\n",
    "    \"aws\": \"Amazon Web Services\",\n",
    "    \"gcp\": \"Google Cloud Platform\",\n",
    "    \"azure\": \"Microsoft Azure\"\n",
    "}\n",
    "    \n",
    "event_count_vals = df.groupby(\"provider\")[\"event_id\"].max()\n",
    "report_count_vals = df.groupby(\"provider\")[\"count\"].sum()\n",
    "detail_event_count_vals = df_rep.dropna().groupby(\"provider\")[\"event_id\"].nunique()\n",
    "\n",
    "table_df = pd.DataFrame(columns=[\"Report count\", \"Event count\", \"Detailed event count\", \"Detailed event count %\"])\n",
    "table_df[\"Event count\"] = event_count_vals\n",
    "table_df[\"Report count\"] = report_count_vals\n",
    "table_df[\"Detailed event count\"] = detail_event_count_vals\n",
    "table_df[\"Detailed event count %\"] = (detail_event_count_vals / event_count_vals) * 100\n",
    "table_df.rename(index=providers, inplace=True)\n",
    "table_df.sort_values(\"Report count\", inplace=True)"
   ]
  },
  {
   "cell_type": "code",
   "execution_count": 123,
   "metadata": {},
   "outputs": [
    {
     "name": "stdout",
     "output_type": "stream",
     "text": [
      "\\begin{tabular}{lrrrr}\n",
      "\\toprule\n",
      "              provider &  Report count &  Event count &  Detailed event count &  Detailed event count \\% \\\\\n",
      "\\midrule\n",
      " Google Cloud Platform &         10440 &           13 &                     4 &                   30.77 \\\\\n",
      "       Microsoft Azure &         92856 &           50 &                    13 &                   26.00 \\\\\n",
      "   Amazon Web Services &        118415 &           69 &                    25 &                   36.23 \\\\\n",
      "\\bottomrule\n",
      "\\end{tabular}\n",
      "\n"
     ]
    }
   ],
   "source": [
    "print(table_df.reset_index().to_latex(index=None, float_format=\"%.2f\"))"
   ]
  },
  {
   "cell_type": "code",
   "execution_count": 133,
   "metadata": {},
   "outputs": [
    {
     "data": {
      "text/plain": [
       "(221711, 132, 132, 31.818181818181817)"
      ]
     },
     "execution_count": 133,
     "metadata": {},
     "output_type": "execute_result"
    }
   ],
   "source": [
    "# Total for above table\n",
    "report_count = table_df[\"Report count\"].sum()\n",
    "event_count = table_df[\"Event count\"].sum()\n",
    "detailed_event_count = table_df[\"Detailed event count\"].sum()\n",
    "\n",
    "detailed_event_percent = 100 * (table_df[\"Detailed event count\"].sum() / table_df[\"Event count\"].sum())\n",
    "report_count, event_count, event_count, detailed_event_percent"
   ]
  },
  {
   "cell_type": "code",
   "execution_count": 138,
   "metadata": {},
   "outputs": [
    {
     "name": "stdout",
     "output_type": "stream",
     "text": [
      "\\begin{tabular}{lrl}\n",
      "\\toprule\n",
      "         Dataset &   Count &                  Date range \\\\\n",
      "\\midrule\n",
      "         Reports &  221711 &  4 Jan. 2018 - 19 Dec. 2020 \\\\\n",
      "          Events &     132 &  4 Jan. 2018 - 19 Dec. 2020 \\\\\n",
      " Detailed Events &      42 &  4 Jan. 2018 - 19 Dec. 2020 \\\\\n",
      "\\bottomrule\n",
      "\\end{tabular}\n",
      "\n"
     ]
    }
   ],
   "source": [
    "general_df = pd.DataFrame(columns=[\"Dataset\", \"Count\", \"Date range\"])\n",
    "general_df[\"Dataset\"] = [\"Reports\", \"Events\", \"Detailed Events\"]\n",
    "general_df[\"Count\"] = [report_count, event_count, detailed_event_count]\n",
    "general_df[\"Date range\"] = [\"4 Jan. 2018 - 19 Dec. 2020\", \"4 Jan. 2018 - 19 Dec. 2020\", \"4 Jan. 2018 - 19 Dec. 2020\"]\n",
    "\n",
    "print(general_df.to_latex(index=None))\n"
   ]
  },
  {
   "cell_type": "code",
   "execution_count": 130,
   "metadata": {},
   "outputs": [
    {
     "data": {
      "text/plain": [
       "0       2018-01-04 10:08:28\n",
       "1       2018-01-04 10:23:28\n",
       "2       2018-01-04 10:31:11\n",
       "3       2018-01-04 10:38:28\n",
       "4       2018-01-04 10:46:11\n",
       "                ...        \n",
       "12528   2020-12-19 06:45:12\n",
       "12529   2020-12-19 07:00:12\n",
       "12530   2020-12-19 07:15:12\n",
       "12531   2020-12-19 07:30:12\n",
       "12532   2020-12-19 07:45:12\n",
       "Name: timestamp, Length: 12533, dtype: datetime64[ns]"
      ]
     },
     "execution_count": 130,
     "metadata": {},
     "output_type": "execute_result"
    }
   ],
   "source": []
  },
  {
   "cell_type": "code",
   "execution_count": 132,
   "metadata": {},
   "outputs": [
    {
     "data": {
      "text/html": [
       "<div>\n",
       "<style scoped>\n",
       "    .dataframe tbody tr th:only-of-type {\n",
       "        vertical-align: middle;\n",
       "    }\n",
       "\n",
       "    .dataframe tbody tr th {\n",
       "        vertical-align: top;\n",
       "    }\n",
       "\n",
       "    .dataframe thead th {\n",
       "        text-align: right;\n",
       "    }\n",
       "</style>\n",
       "<table border=\"1\" class=\"dataframe\">\n",
       "  <thead>\n",
       "    <tr style=\"text-align: right;\">\n",
       "      <th></th>\n",
       "      <th>Dataset</th>\n",
       "      <th>Count</th>\n",
       "      <th>Date range</th>\n",
       "    </tr>\n",
       "  </thead>\n",
       "  <tbody>\n",
       "    <tr>\n",
       "      <th>0</th>\n",
       "      <td>Reports</td>\n",
       "      <td>NaN</td>\n",
       "      <td>NaN</td>\n",
       "    </tr>\n",
       "    <tr>\n",
       "      <th>1</th>\n",
       "      <td>Events</td>\n",
       "      <td>NaN</td>\n",
       "      <td>NaN</td>\n",
       "    </tr>\n",
       "  </tbody>\n",
       "</table>\n",
       "</div>"
      ],
      "text/plain": [
       "   Dataset Count Date range\n",
       "0  Reports   NaN        NaN\n",
       "1   Events   NaN        NaN"
      ]
     },
     "execution_count": 132,
     "metadata": {},
     "output_type": "execute_result"
    }
   ],
   "source": [
    "general_df"
   ]
  },
  {
   "cell_type": "code",
   "execution_count": null,
   "metadata": {},
   "outputs": [],
   "source": []
  }
 ],
 "metadata": {
  "kernelspec": {
   "display_name": "Python 3",
   "language": "python",
   "name": "python3"
  },
  "language_info": {
   "codemirror_mode": {
    "name": "ipython",
    "version": 3
   },
   "file_extension": ".py",
   "mimetype": "text/x-python",
   "name": "python",
   "nbconvert_exporter": "python",
   "pygments_lexer": "ipython3",
   "version": "3.8.5"
  }
 },
 "nbformat": 4,
 "nbformat_minor": 4
}
